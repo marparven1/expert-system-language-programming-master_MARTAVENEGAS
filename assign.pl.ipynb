{
 "cells": [
  {
   "cell_type": "code",
   "execution_count": 1,
   "id": "3bfcf4ea-981d-44b5-b092-6a5f92a1f7f3",
   "metadata": {},
   "outputs": [
    {
     "data": {
      "text/plain": [
       "% Asserting clauses for user:why/1\n"
      ]
     },
     "metadata": {},
     "output_type": "display_data"
    },
    {
     "data": {
      "text/plain": [
       "% Asserting clauses for user:which_platform/1\n"
      ]
     },
     "metadata": {},
     "output_type": "display_data"
    },
    {
     "data": {
      "text/plain": [
       "% Asserting clauses for user:which_mobile_os/1\n"
      ]
     },
     "metadata": {},
     "output_type": "display_data"
    },
    {
     "data": {
      "text/plain": [
       "% Asserting clauses for user:web/1\n"
      ]
     },
     "metadata": {},
     "output_type": "display_data"
    },
    {
     "data": {
      "text/plain": [
       "% Asserting clauses for user:want_to_work_for/1\n"
      ]
     },
     "metadata": {},
     "output_type": "display_data"
    },
    {
     "data": {
      "text/plain": [
       "% Asserting clauses for user:think_about_microsoft/1\n"
      ]
     },
     "metadata": {},
     "output_type": "display_data"
    },
    {
     "data": {
      "text/plain": [
       "% Asserting clauses for user:try_something_new/1\n"
      ]
     },
     "metadata": {},
     "output_type": "display_data"
    },
    {
     "data": {
      "text/plain": [
       "% Asserting clauses for user:favourite_toy/1\n"
      ]
     },
     "metadata": {},
     "output_type": "display_data"
    },
    {
     "data": {
      "text/plain": [
       "% Asserting clauses for user:prefer_to_learn/1\n"
      ]
     },
     "metadata": {},
     "output_type": "display_data"
    },
    {
     "data": {
      "text/plain": [
       "% Asserting clauses for user:car/1\n"
      ]
     },
     "metadata": {},
     "output_type": "display_data"
    }
   ],
   "source": [
    "% Assigns an answer to questions from the knowledge base\n",
    "% question/1\n",
    "% checks if there is already progress (i.e., an answer has been given)\n",
    "% for the question 'why', and if so, it assigns the value of the answer to the variable Answer.\n",
    "% This ensures that the system will not repeat the same question if it has already been answered.\n",
    "why(Answer) :-\n",
    "  progress(why, Answer).\n",
    "% answer/1\n",
    "why(Answer) :-\n",
    "  % if 'why' question has not been formulated...\n",
    "  \\+ progress(why, _),\n",
    "  % ... ask it\n",
    "  %%%%%% MARTA: AÑADO AQUI DENTRO DE LOS CORCHETES MIS DOS RESPUESTRAS EXTRAS, DELANTE PARA QUE SE VEAN PRIMERO LOS CAMBIOS MÍOS\n",
    "                    %%%%%%%%% MARTA %%%%%%%%%\n",
    "                    \n",
    "  ask(why, Answer, [interested_AI_DA,to_learn,for_my_kids, i_dont_know, make_money, just_for_fun, im_interested, improve_myself]).\n",
    "                   \n",
    "                   %%%%%%%%%%%%%%%%%%%%%%%%%\n",
    "                   \n",
    "previous_programming_experience(Answer) :-\n",
    "  progress(previous_programming_experience, Answer).\n",
    "previous_programming_experience(Answer) :-\n",
    "  \\+ progress(previous_programming_experience, _),\n",
    "  ask(previous_programming_experience, Answer, [yes, no]).\n",
    "   \n",
    " \n",
    "what_learn(Answer) :-\n",
    "  progress(what_learn, Answer).\n",
    "what_learn(Answer) :-\n",
    "  \\+ progress(what_learn, _),\n",
    "  ask(what_learn, Answer, [Automatization, Computer_Vision, Machine_Learning]).\n",
    "\n",
    "%%%%%%%%%%%%%%%%%%%%%%%%%%%%%%%%%%%%%%%%%%%%%%%%%%%%%%%%%%%%%%%%%%%%%%%%%%%\n",
    " \n",
    "   \n",
    "                   \n",
    "which_platform(Answer) :-\n",
    "  progress(which_platform, Answer).\n",
    "which_platform(Answer) :-\n",
    "  \\+ progress(which_platform, _),\n",
    "  ask(which_platform, Answer, [doesn_t_matter, gaming, mobile, facebook, google, microsoft, apple, web, enterprise]).\n",
    "\n",
    "which_mobile_os(Answer) :-\n",
    "  progress(which_mobile_os, Answer).\n",
    "which_mobile_os(Answer) :-\n",
    "  \\+ progress(which_mobile_os, _),\n",
    "  ask(which_mobile_os, Answer, [ios, android]).\n",
    "\n",
    "web(Answer) :-\n",
    "  progress(web, Answer).\n",
    "web(Answer) :-\n",
    "  \\+ progress(web, _),\n",
    "  ask(web, Answer, [front_end, back_end]).\n",
    "\n",
    "want_to_work_for(Answer) :-\n",
    "  progress(want_to_work_for, Answer).\n",
    "want_to_work_for(Answer) :-\n",
    "  \\+ progress(want_to_work_for, _),\n",
    "  ask(want_to_work_for, Answer, [startup, corporate]).\n",
    "\n",
    "think_about_microsoft(Answer) :-\n",
    "  progress(think_about_microsoft, Answer).\n",
    "think_about_microsoft(Answer) :-\n",
    "  \\+ progress(think_about_microsoft, _),\n",
    "  ask(think_about_microsoft, Answer, [im_a_fan, not_bad, suck]).\n",
    "\n",
    "try_something_new(Answer) :-\n",
    "  progress(try_something_new, Answer).\n",
    "try_something_new(Answer) :-\n",
    "  \\+ progress(try_something_new, _),\n",
    "  ask(try_something_new, Answer, [yes, no]).\n",
    "\n",
    "favourite_toy(Answer) :-\n",
    "  progress(favourite_toy, Answer).\n",
    "favourite_toy(Answer) :-\n",
    "  \\+ progress(favourite_toy, _),\n",
    "  ask(favourite_toy, Answer, [lego, play_doh, old_ugly]).\n",
    "\n",
    "prefer_to_learn(Answer) :-\n",
    "  progress(prefer_to_learn, Answer).\n",
    "prefer_to_learn(Answer) :-\n",
    "  \\+ progress(prefer_to_learn, _),\n",
    "  ask(prefer_to_learn, Answer, [easy_way, best_way, harder_way, hardest_way]).\n",
    "\n",
    "car(Answer) :-\n",
    "  progress(car, Answer).\n",
    "car(Answer) :-\n",
    "  \\+ progress(car, _),\n",
    "  ask(car, Answer, [auto, manual])."
   ]
  }
 ],
 "metadata": {
  "kernelspec": {
   "display_name": "Prolog",
   "language": "prolog",
   "name": "prolog_kernel"
  },
  "language_info": {
   "codemirror_mode": "prolog",
   "file_extension": ".pl",
   "mimetype": "text/x-prolog",
   "name": "Prolog"
  }
 },
 "nbformat": 4,
 "nbformat_minor": 5
}
