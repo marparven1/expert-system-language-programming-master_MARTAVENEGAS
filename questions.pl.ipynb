{
 "cells": [
  {
   "cell_type": "code",
   "execution_count": 1,
   "id": "55937f22-09c4-48fa-8aae-f076efb20bf5",
   "metadata": {},
   "outputs": [
    {
     "data": {
      "text/plain": [
       "% Asserting clauses for user:question/1\n"
      ]
     },
     "metadata": {},
     "output_type": "display_data"
    }
   ],
   "source": [
    "% Questions for the knowledge base\n",
    "% question/1\n",
    "\n",
    "\n",
    "% AÑADIRÉ MIS PREGUNTAS EN ESTE CÓDIGO Y PONDRÉ UN COMENTARIO: MARTA PARA QUE SEA FÁCIL DE ENCONTRAR\n",
    "\n",
    "\n",
    "\n",
    "%%%%%%%%% MARTA %%%%%%%%%\n",
    "\n",
    "question(previous_programming_experience) :-\n",
    "  % / write/1, nl/0\n",
    "  write('Do you have previous programming experience?'), nl.\n",
    "  \n",
    "  \n",
    "  \n",
    "% Question anwsering: learn\n",
    "question(what_learn) :-\n",
    "  % / write/1, nl/0\n",
    "  write('What do you want to learn?'), nl.\n",
    "  \n",
    "  \n",
    "  \n",
    "% VOY A AÑADIR BRILLIANT IDEA PLATFORM IN MIND QUE NO LA VEO \n",
    "\n",
    "\n",
    "question(have_idea_platform_in_mind) :-\n",
    "  % / write/1, nl/0\n",
    "  write('Do you have a brilliant idea or platform in mind?'), nl.\n",
    "  \n",
    "  \n",
    "%%%%%%%%%%%%%%%%%%%%%%%%%\n",
    "\n",
    "\n",
    "\n",
    "\n",
    "\n",
    "\n",
    "question(why) :-\n",
    "  % / write/1, nl/0\n",
    "  write('Why do you want to learn programming?'), nl.\n",
    "\n",
    "question(which_platform) :-\n",
    "  write('Which platform/field?'), nl.\n",
    "\n",
    "question(which_mobile_os) :-\n",
    "  write('Which OS?'), nl.\n",
    "\n",
    "question(web) :-\n",
    "  write('Which \"end\"?'), nl.\n",
    "\n",
    "question(want_to_work_for) :-\n",
    "  write('I want to work for...'), nl.\n",
    "\n",
    "question(think_about_microsoft) :-\n",
    "  write('What do you think about Microsoft?'), nl.\n",
    "\n",
    "question(try_something_new) :-\n",
    "  write('Do you want to try something new, with huge potential, but less mature?'), nl.\n",
    "\n",
    "question(favourite_toy) :-\n",
    "  write('Which one is your favourite toy?'), nl.\n",
    "\n",
    "question(prefer_to_learn) :-\n",
    "  write('I prefer to learn things...'), nl.\n",
    "\n",
    "question(car) :-\n",
    "  write('Auto or Manual car?'), nl."
   ]
  },
  {
   "cell_type": "code",
   "execution_count": null,
   "id": "50d87e91-14a0-474e-b59c-f9018492c67e",
   "metadata": {},
   "outputs": [],
   "source": []
  }
 ],
 "metadata": {
  "kernelspec": {
   "display_name": "Prolog",
   "language": "prolog",
   "name": "prolog_kernel"
  },
  "language_info": {
   "codemirror_mode": "prolog",
   "file_extension": ".pl",
   "mimetype": "text/x-prolog",
   "name": "Prolog"
  }
 },
 "nbformat": 4,
 "nbformat_minor": 5
}
